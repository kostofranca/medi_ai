{
 "cells": [
  {
   "cell_type": "markdown",
   "id": "17da34d5",
   "metadata": {},
   "source": [
    "## Modules"
   ]
  },
  {
   "cell_type": "code",
   "execution_count": 1,
   "id": "1458c67f",
   "metadata": {},
   "outputs": [],
   "source": [
    "# KNN Modules\n",
    "import pandas as pd\n",
    "import matplotlib.pyplot as plt\n",
    "\n",
    "from sklearn.model_selection import train_test_split\n",
    "from sklearn.preprocessing import StandardScaler\n",
    "from sklearn.neighbors import KNeighborsClassifier\n",
    "from sklearn.metrics import classification_report, confusion_matrix, roc_auc_score, accuracy_score, roc_curve, auc\n",
    "\n",
    "# Logistic Regression Modules\n",
    "from sklearn.linear_model import LogisticRegression\n",
    "\n",
    "#Random Forest\n",
    "from sklearn.ensemble import RandomForestClassifier"
   ]
  },
  {
   "cell_type": "markdown",
   "id": "4c821091",
   "metadata": {},
   "source": [
    "## Explore"
   ]
  },
  {
   "cell_type": "code",
   "execution_count": 2,
   "id": "53dfb177",
   "metadata": {},
   "outputs": [],
   "source": [
    "df = pd.read_excel(\"../data/data_10092023.xlsx\")"
   ]
  },
  {
   "cell_type": "code",
   "execution_count": 3,
   "id": "45db12fb",
   "metadata": {},
   "outputs": [],
   "source": [
    "df = df[['HASTA_NO', 'Cinsiyet', 'Yaş', 'BMI',\n",
    "       'Sigara kullanımı', 'Antiagregan', \n",
    "       'NLR', 'Başvuru', 'VİRADS', 'Tm boyutu mm',\n",
    "       'Tm Sayı', 'Karakteri', 'Yerleşim', 'Mesane boynu tutulumu',\n",
    "       'Ek sistoskopi bulgu', 'Patoloji', 'Kas var mı', 'Nüks']]"
   ]
  },
  {
   "cell_type": "code",
   "execution_count": null,
   "id": "6c38b532",
   "metadata": {},
   "outputs": [],
   "source": [
    "unused_cols = {\n",
    "    'Obturator': 'Involvement of the obturator region (if applicable)',\n",
    "    \"Ek hastalık\": \"Presence of additional diseases or comorbidities.\",\n",
    "    'TİT': 'Troponin-I level, a marker of heart muscle damage',\n",
    "    'Sigara devamı': 'Duration of smoking (if applicable)',\n",
    "    \"NEU\": \"Neutrophil count.\",\n",
    "    \"LYMP\": \"Lymphocyte count.\"\n",
    "}"
   ]
  },
  {
   "cell_type": "markdown",
   "id": "0557d3ff",
   "metadata": {},
   "source": [
    "---\n",
    "\n",
    "### KNN"
   ]
  },
  {
   "cell_type": "code",
   "execution_count": 14,
   "id": "6208b644",
   "metadata": {},
   "outputs": [
    {
     "name": "stdout",
     "output_type": "stream",
     "text": [
      "KNN\n",
      "\n",
      "Accuracy:  0.8378378378378378\n",
      "Sensitivity:  0.5714285714285714\n",
      "Specificity:  1.0\n",
      "AUC Value: 0.889751552795031\n"
     ]
    }
   ],
   "source": [
    "# Select features (X) and target variable (y)\n",
    "X = df.drop(columns=['Nüks'])\n",
    "y = df['Nüks']\n",
    "\n",
    "# Split the data into training and testing sets\n",
    "X_train, X_test, y_train, y_test = train_test_split(X, y, test_size=0.2, random_state=3)\n",
    "\n",
    "# Feature scaling\n",
    "scaler = StandardScaler()\n",
    "X_train = scaler.fit_transform(X_train)\n",
    "X_test = scaler.transform(X_test)\n",
    "\n",
    "# Initialize the KNN classifier (you can experiment with different values of K)\n",
    "k = 2\n",
    "knn_classifier = KNeighborsClassifier(n_neighbors=k)\n",
    "\n",
    "# Train the KNN model\n",
    "knn_classifier.fit(X_train, y_train)\n",
    "\n",
    "# Make predictions\n",
    "y_pred = knn_classifier.predict(X_test)\n",
    "\n",
    "\n",
    "# Confusion Matrix\n",
    "confusion = confusion_matrix(y_test, y_pred)\n",
    "\n",
    "# Accuracy\n",
    "accuracy = accuracy_score(y_test, y_pred)\n",
    "\n",
    "# Classification Report\n",
    "#classification_rep = classification_report(y_test, y_pred)\n",
    "\n",
    "# Calculate AUC value\n",
    "y_prob = knn_classifier.predict_proba(X_test)[:, 1]\n",
    "auc_value = roc_auc_score(y_test, y_prob)\n",
    "\n",
    "# Calculate True Positives, False Positives, True Negatives, and False Negatives\n",
    "tn, fp, fn, tp = confusion.ravel()\n",
    "\n",
    "# Calculate Sensitivity (True Positive Rate)\n",
    "sensitivity = tp / (tp + fn)\n",
    "\n",
    "# Calculate Specificity (True Negative Rate)\n",
    "specificity = tn / (tn + fp)\n",
    "\n",
    "\n",
    "print(\"KNN\\n\")\n",
    "# Print Accuracy\n",
    "print(\"Accuracy: \", accuracy)\n",
    "# Print Sensitivity and Specificity\n",
    "print(\"Sensitivity: \", sensitivity)\n",
    "print(\"Specificity: \", specificity)\n",
    "\n",
    "# Print the AUC value\n",
    "print(\"AUC Value:\", auc_value)\n",
    "\n",
    "# Compute ROC curve and ROC AUC\n",
    "fpr_knn, tpr_knn, thresholds_knn = roc_curve(y_test, y_prob)\n",
    "roc_auc_knn = auc(fpr_knn, tpr_knn)"
   ]
  },
  {
   "cell_type": "code",
   "execution_count": null,
   "id": "f37b39a2",
   "metadata": {},
   "outputs": [],
   "source": [
    "k = 2\n",
    "test = 0.2\n",
    "rs = \"3-14\""
   ]
  },
  {
   "cell_type": "markdown",
   "id": "7ca3b887",
   "metadata": {},
   "source": [
    "---"
   ]
  },
  {
   "cell_type": "markdown",
   "id": "fe1c25fb",
   "metadata": {},
   "source": [
    "### Logistic Regression"
   ]
  },
  {
   "cell_type": "code",
   "execution_count": 15,
   "id": "c1fb2ca3",
   "metadata": {},
   "outputs": [
    {
     "name": "stdout",
     "output_type": "stream",
     "text": [
      "KNN\n",
      "\n",
      "Accuracy:  0.8378378378378378\n",
      "Sensitivity:  0.7142857142857143\n",
      "Specificity:  0.9130434782608695\n",
      "AUC Value: 0.8354037267080746\n"
     ]
    },
    {
     "name": "stderr",
     "output_type": "stream",
     "text": [
      "/Users/ahmetkasimerbay/anaconda3/lib/python3.10/site-packages/sklearn/linear_model/_logistic.py:458: ConvergenceWarning: lbfgs failed to converge (status=1):\n",
      "STOP: TOTAL NO. of ITERATIONS REACHED LIMIT.\n",
      "\n",
      "Increase the number of iterations (max_iter) or scale the data as shown in:\n",
      "    https://scikit-learn.org/stable/modules/preprocessing.html\n",
      "Please also refer to the documentation for alternative solver options:\n",
      "    https://scikit-learn.org/stable/modules/linear_model.html#logistic-regression\n",
      "  n_iter_i = _check_optimize_result(\n"
     ]
    }
   ],
   "source": [
    "# Select features (X) and target variable (y)\n",
    "X = df.drop(columns=['Nüks'])\n",
    "y = df['Nüks']\n",
    "\n",
    "# Split the data into training and testing sets\n",
    "X_train, X_test, y_train, y_test = train_test_split(X, y, test_size=0.2, random_state=62)\n",
    "\n",
    "# Feature scaling (optional but can be beneficial for logistic regression)\n",
    "#scaler = StandardScaler()\n",
    "#X_train = scaler.fit_transform(X_train)\n",
    "#X_test = scaler.transform(X_test)\n",
    "\n",
    "# Initialize the logistic regression model\n",
    "logistic_regression_model = LogisticRegression()\n",
    "\n",
    "# Train the logistic regression model\n",
    "logistic_regression_model.fit(X_train, y_train)\n",
    "\n",
    "# Make predictions\n",
    "y_pred = logistic_regression_model.predict(X_test)\n",
    "\n",
    "# Evaluate the model\n",
    "accuracy = accuracy_score(y_test, y_pred)\n",
    "confusion = confusion_matrix(y_test, y_pred)\n",
    "classification_rep = classification_report(y_test, y_pred)\n",
    "\n",
    "# Calculate AUC value\n",
    "y_prob = logistic_regression_model.predict_proba(X_test)[:, 1]\n",
    "auc_value = roc_auc_score(y_test, y_prob)\n",
    "\n",
    "# Calculate True Positives, False Positives, True Negatives, and False Negatives\n",
    "tn, fp, fn, tp = confusion.ravel()\n",
    "\n",
    "# Calculate Sensitivity (True Positive Rate)\n",
    "sensitivity = tp / (tp + fn)\n",
    "\n",
    "# Calculate Specificity (True Negative Rate)\n",
    "specificity = tn / (tn + fp)\n",
    "\n",
    "\n",
    "print(\"Logistic Regression\\n\")\n",
    "# Print Accuracy\n",
    "print(\"Accuracy: \", accuracy)\n",
    "# Print Sensitivity and Specificity\n",
    "print(\"Sensitivity: \", sensitivity)\n",
    "print(\"Specificity: \", specificity)\n",
    "\n",
    "# Print the AUC value\n",
    "print(\"AUC Value:\", auc_value)\n",
    "\n",
    "# Drawing Section for AUC Curve\n",
    "fpr_decision, tpr_decision, thresholds_decision = roc_curve(y_test, y_prob)\n",
    "roc_auc_decision = auc(fpr_decision, tpr_decision)"
   ]
  },
  {
   "cell_type": "code",
   "execution_count": null,
   "id": "748ff81d",
   "metadata": {},
   "outputs": [],
   "source": [
    "test = 0.2\n",
    "rs = \"62-72\""
   ]
  },
  {
   "cell_type": "markdown",
   "id": "0f07cb4d",
   "metadata": {},
   "source": [
    "---\n",
    "\n",
    "### Random Forest"
   ]
  },
  {
   "cell_type": "code",
   "execution_count": 6,
   "id": "bff4ed75",
   "metadata": {},
   "outputs": [
    {
     "name": "stdout",
     "output_type": "stream",
     "text": [
      "Accuracy: 0.918918918918919\n",
      "\n",
      "Confusion Matrix:\n",
      "[[20  3]\n",
      " [ 0 14]]\n",
      "\n",
      "Classification Report:\n",
      "              precision    recall  f1-score   support\n",
      "\n",
      "           0       1.00      0.87      0.93        23\n",
      "           1       0.82      1.00      0.90        14\n",
      "\n",
      "    accuracy                           0.92        37\n",
      "   macro avg       0.91      0.93      0.92        37\n",
      "weighted avg       0.93      0.92      0.92        37\n",
      "\n",
      "\n",
      "AUC Value: 0.9736024844720497\n"
     ]
    }
   ],
   "source": [
    "# Select features (X) and target variable (y)\n",
    "X = df.drop(columns=['Nüks'])\n",
    "y = df['Nüks']\n",
    "\n",
    "# Split the data into training and testing sets\n",
    "X_train, X_test, y_train, y_test = train_test_split(X, y, test_size=0.2, random_state=11)\n",
    "\n",
    "# Initialize the Random Forest classifier\n",
    "random_forest_model = RandomForestClassifier(random_state=11)\n",
    "\n",
    "# Train the Random Forest model\n",
    "random_forest_model.fit(X_train, y_train)\n",
    "\n",
    "# Make predictions\n",
    "y_pred = random_forest_model.predict(X_test)\n",
    "\n",
    "# Evaluate the model\n",
    "accuracy = accuracy_score(y_test, y_pred)\n",
    "confusion = confusion_matrix(y_test, y_pred)\n",
    "classification_rep = classification_report(y_test, y_pred)\n",
    "\n",
    "# Calculate AUC value\n",
    "y_prob = random_forest_model.predict_proba(X_test)[:, 1]\n",
    "auc_value = roc_auc_score(y_test, y_prob)\n",
    "\n",
    "# Calculate True Positives, False Positives, True Negatives, and False Negatives\n",
    "tn, fp, fn, tp = confusion.ravel()\n",
    "\n",
    "# Calculate Sensitivity (True Positive Rate)\n",
    "sensitivity = tp / (tp + fn)\n",
    "\n",
    "# Calculate Specificity (True Negative Rate)\n",
    "specificity = tn / (tn + fp)\n",
    "\n",
    "\n",
    "print(\"Logistic Regression\\n\")\n",
    "# Print Accuracy\n",
    "print(\"Accuracy: \", accuracy)\n",
    "# Print Sensitivity and Specificity\n",
    "print(\"Sensitivity: \", sensitivity)\n",
    "print(\"Specificity: \", specificity)\n",
    "\n",
    "# Print the AUC value\n",
    "print(\"AUC Value:\", auc_value)\n",
    "\n",
    "\n",
    "# Compute ROC curve and ROC AUC\n",
    "fpr_random, tpr_random, thresholds = roc_curve(y_test, y_prob)\n",
    "roc_auc_random = auc(fpr_random, tpr_random)"
   ]
  },
  {
   "cell_type": "code",
   "execution_count": null,
   "id": "28c6a444",
   "metadata": {},
   "outputs": [],
   "source": [
    "# Calculate True Positives, False Positives, True Negatives, and False Negatives\n",
    "tn_, fp, fn, tp = confusion.ravel()\n",
    "\n",
    "# Calculate Sensitivity (True Positive Rate)\n",
    "sensitivity = tp / (tp + fn)\n",
    "\n",
    "# Calculate Specificity (True Negative Rate)\n",
    "specificity = tn / (tn + fp)\n",
    "\n",
    "# Print Sensitivity and Specificity\n",
    "print(\"Sensitivity (True Positive Rate):\", sensitivity)\n",
    "print(\"Specificity (True Negative Rate):\", specificity)"
   ]
  },
  {
   "cell_type": "code",
   "execution_count": 7,
   "id": "b4bf7c58",
   "metadata": {},
   "outputs": [
    {
     "data": {
      "image/png": "[encoded data removed]",
      "text/plain": [
       "<Figure size 800x600 with 1 Axes>"
      ]
     },
     "metadata": {},
     "output_type": "display_data"
    }
   ],
   "source": [
    "# Plot ROC curve\n",
    "plt.figure(figsize=(8, 6))\n",
    "\n",
    "plt.plot(fpr_random, tpr_random, color='darkorange', lw=2, label='Random Forest AUC (area = %0.2f)' % roc_auc_random)\n",
    "plt.plot(fpr_decision, tpr_decision, color='green', lw=2, label='Decision Tree AUC (area = %0.2f)' % roc_auc_decision)\n",
    "plt.plot(fpr_knn, tpr_knn, color='blue', lw=2, label='KNN AUC (area = %0.2f)' % roc_auc_knn)\n",
    "plt.plot([0, 1], [0, 1], color='navy', lw=2, linestyle='--')\n",
    "\n",
    "plt.xlim([-0.05, 1.0])\n",
    "plt.ylim([0.0, 1.05])\n",
    "plt.xlabel('Specificity')\n",
    "plt.ylabel('Sensitivity')\n",
    "plt.title('Area Under Curve (AUC) Graph')\n",
    "plt.legend(loc='lower right')\n",
    "plt.show()"
   ]
  },
  {
   "cell_type": "code",
   "execution_count": null,
   "id": "e6d2f88f",
   "metadata": {},
   "outputs": [],
   "source": []
  },
  {
   "cell_type": "code",
   "execution_count": null,
   "id": "30b61d59",
   "metadata": {},
   "outputs": [],
   "source": []
  },
  {
   "cell_type": "code",
   "execution_count": null,
   "id": "95b01187",
   "metadata": {},
   "outputs": [],
   "source": []
  },
  {
   "cell_type": "code",
   "execution_count": null,
   "id": "37cd6639",
   "metadata": {},
   "outputs": [],
   "source": []
  },
  {
   "cell_type": "code",
   "execution_count": null,
   "id": "98be27c0",
   "metadata": {},
   "outputs": [],
   "source": []
  },
  {
   "cell_type": "code",
   "execution_count": null,
   "id": "913826a4",
   "metadata": {},
   "outputs": [],
   "source": []
  },
  {
   "cell_type": "code",
   "execution_count": null,
   "id": "9e423f3a",
   "metadata": {},
   "outputs": [],
   "source": []
  },
  {
   "cell_type": "code",
   "execution_count": null,
   "id": "7b270d9e",
   "metadata": {},
   "outputs": [],
   "source": []
  },
  {
   "cell_type": "code",
   "execution_count": null,
   "id": "83ccc75a",
   "metadata": {},
   "outputs": [],
   "source": []
  },
  {
   "cell_type": "code",
   "execution_count": null,
   "id": "5f53b5ed",
   "metadata": {},
   "outputs": [],
   "source": []
  },
  {
   "cell_type": "code",
   "execution_count": null,
   "id": "b2d90d39",
   "metadata": {},
   "outputs": [],
   "source": []
  },
  {
   "cell_type": "code",
   "execution_count": null,
   "id": "566f44f9",
   "metadata": {},
   "outputs": [],
   "source": []
  },
  {
   "cell_type": "code",
   "execution_count": null,
   "id": "4378fd38",
   "metadata": {},
   "outputs": [],
   "source": []
  },
  {
   "cell_type": "code",
   "execution_count": null,
   "id": "10ecd4ad",
   "metadata": {},
   "outputs": [],
   "source": []
  },
  {
   "cell_type": "code",
   "execution_count": null,
   "id": "37a88e72",
   "metadata": {},
   "outputs": [],
   "source": []
  },
  {
   "cell_type": "code",
   "execution_count": null,
   "id": "8031490f",
   "metadata": {},
   "outputs": [],
   "source": []
  },
  {
   "cell_type": "code",
   "execution_count": null,
   "id": "902fcd95",
   "metadata": {},
   "outputs": [],
   "source": []
  },
  {
   "cell_type": "code",
   "execution_count": null,
   "id": "d4fd2586",
   "metadata": {},
   "outputs": [],
   "source": []
  },
  {
   "cell_type": "code",
   "execution_count": null,
   "id": "a2ca0fd6",
   "metadata": {},
   "outputs": [],
   "source": []
  }
 ],
 "metadata": {
  "kernelspec": {
   "display_name": "Python 3 (ipykernel)",
   "language": "python",
   "name": "python3"
  },
  "language_info": {
   "codemirror_mode": {
    "name": "ipython",
    "version": 3
   },
   "file_extension": ".py",
   "mimetype": "text/x-python",
   "name": "python",
   "nbconvert_exporter": "python",
   "pygments_lexer": "ipython3",
   "version": "3.10.9"
  }
 },
 "nbformat": 4,
 "nbformat_minor": 5
}
